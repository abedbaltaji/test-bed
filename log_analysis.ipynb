{
 "cells": [
  {
   "cell_type": "markdown",
   "metadata": {},
   "source": [
    "## QEMU ExecLog"
   ]
  },
  {
   "cell_type": "markdown",
   "metadata": {},
   "source": [
    "### Notebook Description\n",
    "\n",
    "In the follwoing notebook we are analyzing the trace of the code excution. The elf file, which is the output of the compilation of our C code, will be executed using QEMU ExecLog tool. \n",
    "\n",
    "The execlog tool is from QEMU TCG Pligins (ref: [QEMU TCG Pligins](https://qemu.readthedocs.io/en/latest/devel/tcg-plugins.html)). \n",
    "\n",
    "The execlog tool traces executed instructions with memory access. It can be used for debugging and security analysis purposes. \n",
    "\n",
    "The below command is used to generate the log file that contains the output logs:\n",
    "\n",
    "`qemu-system-arm -M versatilepb -m 128M -nographic -kernel test.bin -d plugin -plugin /home/a23balta/qemu/contrib/plugins/libexeclog.so -D log.txt`\n",
    "\n",
    "Other references:\n",
    "- [Hello world for bare metal ARM versatile using qemu](https://jasonblog.github.io/note/arm_emulation/hello_world_for_bare_metal_arm_using_qemu.html)\n",
    "- [Run C program bare metal on ARM Cortex-M3](https://jacobmossberg.se/posts/2018/08/11/run-c-program-bare-metal-on-arm-cortex-m3.html)"
   ]
  },
  {
   "cell_type": "markdown",
   "metadata": {},
   "source": [
    "### LOAD TRACE DATA"
   ]
  },
  {
   "cell_type": "code",
   "execution_count": 3,
   "metadata": {},
   "outputs": [],
   "source": [
    "import json, os, re\n",
    "\n",
    "def profile_logs(log_path):\n",
    "    inst_stat = {} # inst: count\n",
    "    b_count = 0\n",
    "    with open(log_path, \"r\") as data:\n",
    "        for line in data:\n",
    "            match = line.split()\n",
    "            if match[4] == \"pop\" or match[4] == \"push\": # special case for STACK instructions, cycles depends on operand(s)\n",
    "                m = re.search('{(.+?)}', line)\n",
    "                if match[4] in inst_stat:\n",
    "                    inst_stat[match[4]] += len(m.group(1).split(','))\n",
    "                else:\n",
    "                    inst_stat[match[4]] = len(m.group(1).split(','))\n",
    "            if match[4] in inst_stat:\n",
    "                inst_stat[match[4]] += 1\n",
    "            else:\n",
    "                inst_stat[match[4]] = 1\n",
    "\n",
    "            if match[4] == 'b': b_count += 1\n",
    "            else: b_count = 0\n",
    "\n",
    "            if b_count > 5: \n",
    "                inst_stat[match[4]] -= 5\n",
    "                break\n",
    "    \n",
    "    return inst_stat\n",
    "\n",
    "def profile_logs_by_dir(dir_path):\n",
    "    dir_stat = {}\n",
    "\n",
    "    for filename in os.listdir(dir_path):\n",
    "        relative_path = os.path.join(dir_path, filename)\n",
    "\n",
    "        # checking if it is a file\n",
    "        if os.path.isfile(relative_path) and relative_path.endswith('.txt'):\n",
    "            dir_stat[filename.replace('.txt', '')] = profile_logs(relative_path)\n",
    "    \n",
    "    return dir_stat\n",
    "\n",
    "def save_profile_as_json(prof_dict, file_path):\n",
    "    with open(file_path, 'w') as j_file:\n",
    "        json.dump(prof_dict, j_file)\n",
    "\n"
   ]
  },
  {
   "cell_type": "code",
   "execution_count": 9,
   "metadata": {},
   "outputs": [],
   "source": [
    "all_log_stat = profile_logs_by_dir(dir_path= \"/home/a23balta/bare_metal/qemu_logs\")\n",
    "save_profile_as_json(all_log_stat, \"results/benchmarks_profile.json\")"
   ]
  }
 ],
 "metadata": {
  "kernelspec": {
   "display_name": "Python 3",
   "language": "python",
   "name": "python3"
  },
  "language_info": {
   "codemirror_mode": {
    "name": "ipython",
    "version": 3
   },
   "file_extension": ".py",
   "mimetype": "text/x-python",
   "name": "python",
   "nbconvert_exporter": "python",
   "pygments_lexer": "ipython3",
   "version": "3.10.12"
  },
  "orig_nbformat": 4
 },
 "nbformat": 4,
 "nbformat_minor": 2
}
